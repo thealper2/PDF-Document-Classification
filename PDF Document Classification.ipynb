{
 "cells": [
  {
   "cell_type": "markdown",
   "id": "4b413eac-49bd-4455-bee4-7b0dae4ed6a5",
   "metadata": {},
   "source": [
    "# Import Libraries"
   ]
  },
  {
   "cell_type": "code",
   "execution_count": null,
   "id": "5f587731-0f0b-4777-85ae-64242e5934dd",
   "metadata": {},
   "outputs": [],
   "source": [
    "import numpy as np\n",
    "import pandas as pd\n",
    "import os\n",
    "import PyPDF2\n",
    "import textract\n",
    "import nltk\n",
    "import re\n",
    "import time\n",
    "import pickle\n",
    "import matplotlib.pyplot as plt\n",
    "import seaborn as sns\n",
    "from sklearn.model_selection import train_test_split, cross_val_score\n",
    "from nltk.corpus import stopwords\n",
    "from nltk.tokenize import word_tokenize\n",
    "from nltk import WordNetLemmatizer\n",
    "from autocorrect import Speller\n",
    "from PIL import Image\n",
    "import string\n",
    "from collections import Counter\n",
    "from wordcloud import WordCloud\n",
    "from sklearn.preprocessing import LabelEncoder\n",
    "from imblearn.over_sampling import RandomOverSampler\n",
    "from sklearn.feature_extraction.text import TfidfVectorizer\n",
    "from sklearn.metrics import accuracy_score, classification_report, confusion_matrix\n",
    "from sklearn.linear_model import LogisticRegression\n",
    "from sklearn.ensemble import RandomForestClassifier\n",
    "from sklearn.tree import DecisionTreeClassifier\n",
    "from sklearn.naive_bayes import MultinomialNB\n",
    "from xgboost import XGBClassifier\n",
    "from mlxtend.plotting import plot_confusion_matrix\n",
    "np.bool = np.bool_\n",
    "\n",
    "import warnings\n",
    "from sklearn.exceptions import ConvergenceWarning\n",
    "warnings.filterwarnings(\"ignore\", category=DeprecationWarning)\n",
    "warnings.filterwarnings(\"ignore\", category=FutureWarning)\n",
    "warnings.filterwarnings(\"ignore\", category=ConvergenceWarning)"
   ]
  },
  {
   "cell_type": "markdown",
   "id": "c3363c2a-d19c-4ce7-bfaa-b2c84b95b02e",
   "metadata": {},
   "source": [
    "# Load Data"
   ]
  },
  {
   "cell_type": "code",
   "execution_count": null,
   "id": "b7b12043-12a7-4769-97ca-7f91eea6f5db",
   "metadata": {},
   "outputs": [],
   "source": [
    "data_dir = \"/mnt/hdd/Datasets/pdfs/RawData/\""
   ]
  },
  {
   "cell_type": "code",
   "execution_count": null,
   "id": "7491d691-3fd8-4b03-8db4-53d11574b4d5",
   "metadata": {},
   "outputs": [],
   "source": [
    "folders = os.listdir(data_dir)\n",
    "folders"
   ]
  },
  {
   "cell_type": "code",
   "execution_count": null,
   "id": "636fa6c5-abb3-47f8-afbd-9efd199e863b",
   "metadata": {},
   "outputs": [],
   "source": [
    "data = []\n",
    "labels = []\n",
    "\n",
    "for folder in folders:\n",
    "    folder_path = os.path.join(data_dir, folder)\n",
    "    files = os.listdir(folder_path)\n",
    "    for file in files:\n",
    "        if file.endswith(\".pdf\"):\n",
    "            filename = os.path.join(folder_path, file)\n",
    "            open_filename = open(filename, \"rb\")\n",
    "            pdf_reader = PyPDF2.PdfReader(open_filename)\n",
    "            total_pages = len(pdf_reader.pages)\n",
    "            if total_pages > 3:\n",
    "                total_pages = 3\n",
    "            count = 0\n",
    "            text = \"\"\n",
    "            while count < total_pages:\n",
    "                page = pdf_reader.pages[count]\n",
    "                count += 1\n",
    "                text += page.extract_text()\n",
    "            \n",
    "            spell = Speller(lang=\"en\")\n",
    "            texts = spell(text)\n",
    "            text_file = \" \".join([word.lower() for word in word_tokenize(texts)])\n",
    "            data.append(text_file)\n",
    "            labels.append(folder)"
   ]
  },
  {
   "cell_type": "code",
   "execution_count": null,
   "id": "875fb690-5d0c-4a09-90bc-9f620998b7d6",
   "metadata": {},
   "outputs": [],
   "source": [
    "df = pd.DataFrame({\"text\": data, \"category\": labels})\n",
    "df.head()"
   ]
  },
  {
   "cell_type": "code",
   "execution_count": null,
   "id": "68d3b772-8d31-4799-97db-75c02f57d9ae",
   "metadata": {},
   "outputs": [],
   "source": [
    "df.shape"
   ]
  },
  {
   "cell_type": "code",
   "execution_count": null,
   "id": "43672fa1-9391-45cc-b9fb-d13e98e396cf",
   "metadata": {},
   "outputs": [],
   "source": [
    "df.isnull().sum()"
   ]
  },
  {
   "cell_type": "code",
   "execution_count": null,
   "id": "bda012d6-d53c-4abf-a447-057542d391a1",
   "metadata": {},
   "outputs": [],
   "source": [
    "df.category.value_counts()"
   ]
  },
  {
   "cell_type": "code",
   "execution_count": null,
   "id": "4c20f05c-5b7c-4fb1-9a84-96a7a90f7557",
   "metadata": {},
   "outputs": [],
   "source": [
    "plt.figure()\n",
    "df.category.value_counts().plot(kind=\"barh\")\n",
    "plt.xlabel(\"Category\")\n",
    "plt.ylabel(\"Count\")\n",
    "plt.title(\"Category Count\")\n",
    "plt.show()"
   ]
  },
  {
   "cell_type": "code",
   "execution_count": null,
   "id": "ef53202c-1e51-4063-b4ae-427f6c6c4bc4",
   "metadata": {},
   "outputs": [],
   "source": [
    "def word_freq(category, column):\n",
    "    freq_df = df[df[\"category\"] == category]\n",
    "    freq_words = freq_df[column].tolist()\n",
    "    freq_words = [word.lower() for word in freq_words]\n",
    "    freq_punc = []\n",
    "\n",
    "    for word in freq_words:\n",
    "        freq_punc += word_tokenize(word)\n",
    "\n",
    "    freq_punc = [word for word in freq_punc if word not in string.punctuation]\n",
    "    freq_freq = Counter(freq_punc)\n",
    "\n",
    "    freq_top = freq_freq.most_common(15)\n",
    "\n",
    "    words = [word for word, _ in freq_top]\n",
    "    counts = [count for _, count in freq_top]\n",
    "\n",
    "    plt.figure(figsize=(15, 5))\n",
    "    plt.bar(words, counts)\n",
    "    plt.title(f\"TOP 15 WORDS in {category}\")\n",
    "    plt.xlabel(\"Word\")\n",
    "    plt.ylabel(\"Frequency\")\n",
    "    plt.show()\n",
    "    \n",
    "    return freq_top"
   ]
  },
  {
   "cell_type": "code",
   "execution_count": null,
   "id": "eeac36af-e317-4056-8606-b5fb4dd0c04a",
   "metadata": {},
   "outputs": [],
   "source": [
    "agreements_top = word_freq(\"Agreements\", \"text\")"
   ]
  },
  {
   "cell_type": "code",
   "execution_count": null,
   "id": "b89f873f-fc7c-44fa-9271-7d469107c82d",
   "metadata": {},
   "outputs": [],
   "source": [
    "deeds_top = word_freq(\"Deeds\", \"text\")"
   ]
  },
  {
   "cell_type": "code",
   "execution_count": null,
   "id": "a8c270bb-df6e-48a4-9f64-e4fcc99f173a",
   "metadata": {},
   "outputs": [],
   "source": [
    "valuations_top = word_freq(\"Valuations\", \"text\")"
   ]
  },
  {
   "cell_type": "code",
   "execution_count": null,
   "id": "b36bc06e-2a47-43c6-a0c2-6fae17ce884b",
   "metadata": {},
   "outputs": [],
   "source": [
    "taxes_top = word_freq(\"Taxes\", \"text\")"
   ]
  },
  {
   "cell_type": "code",
   "execution_count": null,
   "id": "8a8b13d9-56b7-4c03-804c-bd1a650e4af9",
   "metadata": {},
   "outputs": [],
   "source": [
    "human_resources_top = word_freq(\"Human Resources\", \"text\")"
   ]
  },
  {
   "cell_type": "code",
   "execution_count": null,
   "id": "e764abfc-8ae9-4dd3-8d04-33196d4a898e",
   "metadata": {},
   "outputs": [],
   "source": [
    "def print_wordcloud(freq_top, category):\n",
    "    dict_top = dict(freq_top)\n",
    "    wordcloud = WordCloud(width=350, height=350, background_color=\"white\", min_font_size=5).generate_from_frequencies(dict_top)\n",
    "\n",
    "    plt.figure()\n",
    "    plt.title(f\"TOP 15 Words in {category}\")\n",
    "    plt.imshow(wordcloud)\n",
    "    #plt.axis(\"off\")\n",
    "    plt.tight_layout(pad=0)\n",
    "    plt.show()"
   ]
  },
  {
   "cell_type": "code",
   "execution_count": null,
   "id": "edc8fe45-a489-4c4c-bf2c-a64b3a9bcbb0",
   "metadata": {},
   "outputs": [],
   "source": [
    "print_wordcloud(agreements_top, \"Agreements\")"
   ]
  },
  {
   "cell_type": "code",
   "execution_count": null,
   "id": "d068214d-7f25-4dba-b26c-46bca431083a",
   "metadata": {},
   "outputs": [],
   "source": [
    "print_wordcloud(deeds_top, \"Deeds\")"
   ]
  },
  {
   "cell_type": "code",
   "execution_count": null,
   "id": "fb933bcf-43e0-4c6b-89ba-a97b3b6e3bf2",
   "metadata": {},
   "outputs": [],
   "source": [
    "print_wordcloud(valuations_top, \"Valuations\")"
   ]
  },
  {
   "cell_type": "code",
   "execution_count": null,
   "id": "484602ed-5fb9-482c-8125-d6c62fa6bd3e",
   "metadata": {},
   "outputs": [],
   "source": [
    "print_wordcloud(taxes_top, \"Taxes\")"
   ]
  },
  {
   "cell_type": "code",
   "execution_count": null,
   "id": "82715c5b-8c8e-4fe1-a9e4-0b003a8c4e92",
   "metadata": {},
   "outputs": [],
   "source": [
    "print_wordcloud(human_resources_top, \"Human Resources\")"
   ]
  },
  {
   "cell_type": "markdown",
   "id": "d2006bb9-c079-41a3-b848-655f8f003788",
   "metadata": {},
   "source": [
    "# Preprocess"
   ]
  },
  {
   "cell_type": "code",
   "execution_count": null,
   "id": "29514ff9-bfbc-42da-9a63-0a49f03cd274",
   "metadata": {},
   "outputs": [],
   "source": [
    "stop_words = set(stopwords.words(\"english\"))"
   ]
  },
  {
   "cell_type": "code",
   "execution_count": null,
   "id": "d1e09866-22d2-418a-8bff-fd9012dcc72d",
   "metadata": {},
   "outputs": [],
   "source": [
    "def clean_text(text):\n",
    "    text = re.sub(r\"[^\\w\\s]\", \"\", text)\n",
    "    text = text.lower()\n",
    "    text = re.sub(r\"\\d+\", \"\", text)\n",
    "    text = \" \".join([word for word in text.split() if word not in stop_words])\n",
    "    lemmatizer = WordNetLemmatizer()\n",
    "    text = \" \".join([lemmatizer.lemmatize(word) for word in text.split() if len(word) > 2])\n",
    "    text = text.strip()\n",
    "    return text"
   ]
  },
  {
   "cell_type": "code",
   "execution_count": null,
   "id": "b498ae46-cb2f-4598-88f9-fc5b28d1ec6b",
   "metadata": {},
   "outputs": [],
   "source": [
    "df[\"clean\"] = df[\"text\"].apply(clean_text)"
   ]
  },
  {
   "cell_type": "code",
   "execution_count": null,
   "id": "63d69a82-641a-40ba-b4af-9f7f19c4eb1a",
   "metadata": {},
   "outputs": [],
   "source": [
    "df.head()"
   ]
  },
  {
   "cell_type": "code",
   "execution_count": null,
   "id": "91ebcdee-1ae8-4bd3-b0f1-9ec38b7c2ad3",
   "metadata": {},
   "outputs": [],
   "source": [
    "pre_agreements_top = word_freq(\"Agreements\", \"clean\")"
   ]
  },
  {
   "cell_type": "code",
   "execution_count": null,
   "id": "04885b64-cadf-42ad-a3c2-c2680a6c1cdd",
   "metadata": {},
   "outputs": [],
   "source": [
    "pre_deeds_top = word_freq(\"Deeds\", \"clean\")"
   ]
  },
  {
   "cell_type": "code",
   "execution_count": null,
   "id": "a9cf4550-9fcc-4702-80b3-c6ebc2f70c9e",
   "metadata": {},
   "outputs": [],
   "source": [
    "pre_valuations_top = word_freq(\"Valuations\", \"clean\")"
   ]
  },
  {
   "cell_type": "code",
   "execution_count": null,
   "id": "c124b9a5-b70c-45c2-b860-579e8d6e8371",
   "metadata": {},
   "outputs": [],
   "source": [
    "pre_taxes_top = word_freq(\"Taxes\", \"clean\")"
   ]
  },
  {
   "cell_type": "code",
   "execution_count": null,
   "id": "494c058f-8766-460b-b374-9cc21ec2561f",
   "metadata": {},
   "outputs": [],
   "source": [
    "pre_human_resources_top = word_freq(\"Human Resources\", \"clean\")"
   ]
  },
  {
   "cell_type": "code",
   "execution_count": null,
   "id": "a48b7a5a-bb7b-42b0-9d66-fac264102016",
   "metadata": {},
   "outputs": [],
   "source": [
    "df.head()"
   ]
  },
  {
   "cell_type": "code",
   "execution_count": null,
   "id": "50ee115f-95f0-436a-910a-4faeb74befdc",
   "metadata": {},
   "outputs": [],
   "source": [
    "df.shape"
   ]
  },
  {
   "cell_type": "code",
   "execution_count": null,
   "id": "8fcca8c1-feaf-4197-8dbe-7e003d9b4f6d",
   "metadata": {},
   "outputs": [],
   "source": [
    "def label_encoder(column):\n",
    "    le = LabelEncoder().fit(column)\n",
    "    print(column.name, le.classes_)\n",
    "    return le.transform(column)"
   ]
  },
  {
   "cell_type": "code",
   "execution_count": null,
   "id": "c1d8560a-a082-417d-85db-1c66667ef8a3",
   "metadata": {},
   "outputs": [],
   "source": [
    "df[\"label\"] = label_encoder(df[\"category\"])"
   ]
  },
  {
   "cell_type": "code",
   "execution_count": null,
   "id": "c6c6ac51-6401-4cb5-a2a8-9fbc474ead27",
   "metadata": {},
   "outputs": [],
   "source": [
    "class_names = [\"Agreements\", \"Deeds\", \"Human Resources\", \"Taxes\", \"Valuations\"]"
   ]
  },
  {
   "cell_type": "markdown",
   "id": "5e3e28d2-1e74-443a-8410-367a2c9ae873",
   "metadata": {},
   "source": [
    "# Model"
   ]
  },
  {
   "cell_type": "code",
   "execution_count": null,
   "id": "d057620b-c180-47a1-9355-710f0a2c1051",
   "metadata": {},
   "outputs": [],
   "source": [
    "df = df.sample(frac=1).reset_index(drop=True)"
   ]
  },
  {
   "cell_type": "code",
   "execution_count": null,
   "id": "3f15bf79-2aaf-4c72-89c4-c0f8eb600f0e",
   "metadata": {},
   "outputs": [],
   "source": [
    "df.head()"
   ]
  },
  {
   "cell_type": "code",
   "execution_count": null,
   "id": "cce4dff6-9973-485d-830a-5303fa2c1279",
   "metadata": {},
   "outputs": [],
   "source": [
    "X = df[\"clean\"]\n",
    "y = df[\"label\"]"
   ]
  },
  {
   "cell_type": "code",
   "execution_count": null,
   "id": "cd2b75fd-4ecf-4871-9657-08a249435a12",
   "metadata": {},
   "outputs": [],
   "source": [
    "tfidf = TfidfVectorizer(max_features=1000, stop_words=stopwords.words(\"english\"))\n",
    "X_tfidf = tfidf.fit_transform(X)"
   ]
  },
  {
   "cell_type": "code",
   "execution_count": null,
   "id": "4b39c9ec-20a8-445d-830a-8f35a8c08e68",
   "metadata": {},
   "outputs": [],
   "source": [
    "pickle.dump(tfidf, open(\"tfidf.pkl\", \"wb\"))"
   ]
  },
  {
   "cell_type": "code",
   "execution_count": null,
   "id": "9d55fae0-0255-4ee5-ab30-e158d1e1f815",
   "metadata": {},
   "outputs": [],
   "source": [
    "ros = RandomOverSampler(random_state=42)\n",
    "X_resampled, y_resampled = ros.fit_resample(X_tfidf, y)"
   ]
  },
  {
   "cell_type": "code",
   "execution_count": null,
   "id": "8f9a02bd-906f-47ae-9234-ac5b009ff908",
   "metadata": {},
   "outputs": [],
   "source": [
    "X_train, X_test, y_train, y_test = train_test_split(X_resampled, y_resampled, test_size=0.2, random_state=42)"
   ]
  },
  {
   "cell_type": "markdown",
   "id": "3beb7027-3b7e-431d-82eb-678b3f63401f",
   "metadata": {},
   "source": [
    "# Logistic Regression"
   ]
  },
  {
   "cell_type": "code",
   "execution_count": null,
   "id": "c64c7764-e950-4026-907e-34a1c49cc790",
   "metadata": {},
   "outputs": [],
   "source": [
    "logreg = LogisticRegression()\n",
    "start = time.time()\n",
    "logreg.fit(X_train, y_train)\n",
    "end = time.time()\n",
    "logreg_time = end - start\n",
    "print(\"Logistic Regression Train Time:\", logreg_time)"
   ]
  },
  {
   "cell_type": "code",
   "execution_count": null,
   "id": "dcae6f8f-c883-4cc3-8351-85e50d5b5086",
   "metadata": {},
   "outputs": [],
   "source": [
    "pickle.dump(logreg, open(\"logreg.pkl\", \"wb\"))"
   ]
  },
  {
   "cell_type": "code",
   "execution_count": null,
   "id": "c494b3d0-b436-4fa4-9cef-79007ca77b49",
   "metadata": {},
   "outputs": [],
   "source": [
    "logreg_scores = cross_val_score(LogisticRegression(), X_train, y_train, cv=3)\n",
    "print(\"Logistic Regression Cross-Validation Accuracy Scores:\", logreg_scores)"
   ]
  },
  {
   "cell_type": "code",
   "execution_count": null,
   "id": "575bd509-d4ed-4d57-af90-b4b731fc801d",
   "metadata": {},
   "outputs": [],
   "source": [
    "logreg_pred_train = logreg.predict(X_train)\n",
    "logreg_pred_test = logreg.predict(X_test)\n",
    "\n",
    "logreg_train_score = accuracy_score(logreg_pred_train, y_train)\n",
    "logreg_test_score = accuracy_score(logreg_pred_test, y_test)\n",
    "print(\"Logistic Regression Train Score:\", logreg_train_score)\n",
    "print(\"Logistic Regression Test Score:\", logreg_test_score)"
   ]
  },
  {
   "cell_type": "code",
   "execution_count": null,
   "id": "89ed9667-67f4-4f9c-9567-e1b36e018494",
   "metadata": {},
   "outputs": [],
   "source": [
    "print(classification_report(y_test, logreg_pred_test))"
   ]
  },
  {
   "cell_type": "code",
   "execution_count": null,
   "id": "8538cbc2-b929-4790-b044-09d9276f67c8",
   "metadata": {},
   "outputs": [],
   "source": [
    "logreg_cm = confusion_matrix(y_test, logreg_pred_test)\n",
    "fig, ax = plot_confusion_matrix(conf_mat=logreg_cm, show_absolute=True, show_normed=True, colorbar=True, class_names=class_names)\n",
    "plt.title(\"Logistic Regression Confusion Matrix\")\n",
    "plt.show()"
   ]
  },
  {
   "cell_type": "markdown",
   "id": "0cc4c1f6-c598-4842-a222-16c60891e0e0",
   "metadata": {},
   "source": [
    "# Random Forest"
   ]
  },
  {
   "cell_type": "code",
   "execution_count": null,
   "id": "1fa20be1-336d-41b6-9f1a-cb8aa3fd2b9e",
   "metadata": {},
   "outputs": [],
   "source": [
    "rf = RandomForestClassifier()\n",
    "start = time.time()\n",
    "rf.fit(X_train, y_train)\n",
    "end = time.time()\n",
    "rf_time = end - start\n",
    "print(\"Random Forest Train Time:\", rf_time)"
   ]
  },
  {
   "cell_type": "code",
   "execution_count": null,
   "id": "4e3c7d07-e16b-466d-b302-e6181a807cef",
   "metadata": {},
   "outputs": [],
   "source": [
    "pickle.dump(rf, open(\"rf.pkl\", \"wb\"))"
   ]
  },
  {
   "cell_type": "code",
   "execution_count": null,
   "id": "68ef98e0-715c-4a95-b38d-b52cad559871",
   "metadata": {},
   "outputs": [],
   "source": [
    "rf_scores = cross_val_score(RandomForestClassifier(), X_train, y_train, cv=3)\n",
    "print(\"Random Forest Cross-Validation Accuracy Scores:\", rf_scores)"
   ]
  },
  {
   "cell_type": "code",
   "execution_count": null,
   "id": "ac8aca6f-75fb-40f7-9bb6-c337eb2635ad",
   "metadata": {},
   "outputs": [],
   "source": [
    "rf_pred_train = rf.predict(X_train)\n",
    "rf_pred_test = rf.predict(X_test)\n",
    "\n",
    "rf_train_score = accuracy_score(rf_pred_train, y_train)\n",
    "rf_test_score = accuracy_score(rf_pred_test, y_test)\n",
    "print(\"Random Forest Train Score:\", rf_train_score)\n",
    "print(\"Random Forest Test Score:\", rf_test_score)"
   ]
  },
  {
   "cell_type": "code",
   "execution_count": null,
   "id": "9852ea30-4bf0-4db9-b7b1-b75b3a0ace01",
   "metadata": {},
   "outputs": [],
   "source": [
    "print(classification_report(y_test, rf_pred_test))"
   ]
  },
  {
   "cell_type": "code",
   "execution_count": null,
   "id": "a83a8616-e320-4755-8214-e53a15df9d9e",
   "metadata": {},
   "outputs": [],
   "source": [
    "rf_cm = confusion_matrix(y_test, rf_pred_test)\n",
    "fig, ax = plot_confusion_matrix(conf_mat=rf_cm, show_absolute=True, show_normed=True, colorbar=True, class_names=class_names)\n",
    "plt.title(\"Random Forest confusion Matrix\")\n",
    "plt.show()"
   ]
  },
  {
   "cell_type": "markdown",
   "id": "f59fd247-37d0-4723-ac36-6f1d771ee156",
   "metadata": {},
   "source": [
    "# Decision Tree"
   ]
  },
  {
   "cell_type": "code",
   "execution_count": null,
   "id": "d05a5189-8fcb-4e33-8976-3faedaa9281d",
   "metadata": {},
   "outputs": [],
   "source": [
    "dt = DecisionTreeClassifier()\n",
    "start = time.time()\n",
    "dt.fit(X_train, y_train)\n",
    "end = time.time()\n",
    "dt_time = end - start\n",
    "print(\"Decision Tree Train Time:\", dt_time)"
   ]
  },
  {
   "cell_type": "code",
   "execution_count": null,
   "id": "a69c5146-1640-4ecf-9b36-a554eb7e6714",
   "metadata": {},
   "outputs": [],
   "source": [
    "pickle.dump(dt, open(\"dt.pkl\", \"wb\"))"
   ]
  },
  {
   "cell_type": "code",
   "execution_count": null,
   "id": "9c8c9a42-4b4b-4197-b7b9-8f828128ceee",
   "metadata": {},
   "outputs": [],
   "source": [
    "dt_scores = cross_val_score(DecisionTreeClassifier(), X_train, y_train, cv=3)\n",
    "print(\"Decision Tree Cross-Validation Accuracy Scores:\", dt_scores)"
   ]
  },
  {
   "cell_type": "code",
   "execution_count": null,
   "id": "e0c8f51f-1f9a-4e74-a8ce-8547d49f1bb1",
   "metadata": {},
   "outputs": [],
   "source": [
    "dt_pred_train = dt.predict(X_train)\n",
    "dt_pred_test = dt.predict(X_test)\n",
    "\n",
    "dt_train_score = accuracy_score(dt_pred_train, y_train)\n",
    "dt_test_score = accuracy_score(dt_pred_test, y_test)\n",
    "print(\"Decision Tree Train Score:\", dt_train_score)\n",
    "print(\"Decision Tree Test Score:\", dt_test_score)"
   ]
  },
  {
   "cell_type": "code",
   "execution_count": null,
   "id": "930af35c-a03a-4d48-84ea-802eb6678b8a",
   "metadata": {},
   "outputs": [],
   "source": [
    "print(classification_report(y_test, dt_pred_test))"
   ]
  },
  {
   "cell_type": "code",
   "execution_count": null,
   "id": "d6f66539-237f-4949-9848-5406cf2a73e1",
   "metadata": {},
   "outputs": [],
   "source": [
    "dt_cm = confusion_matrix(y_test, dt_pred_test)\n",
    "fig, ax = plot_confusion_matrix(conf_mat=dt_cm, show_absolute=True, show_normed=True, colorbar=True, class_names=class_names)\n",
    "plt.title(\"Decision Tree Confusion Matrix\")\n",
    "plt.show()"
   ]
  },
  {
   "cell_type": "markdown",
   "id": "1e09e345-b209-45b8-a725-dedcfb5241be",
   "metadata": {},
   "source": [
    "# MultinomialNB"
   ]
  },
  {
   "cell_type": "code",
   "execution_count": null,
   "id": "0fa42122-5238-40ef-99e1-3cdc3d5c7a8a",
   "metadata": {},
   "outputs": [],
   "source": [
    "mnb = MultinomialNB()\n",
    "start = time.time()\n",
    "mnb.fit(X_train, y_train)\n",
    "end = time.time()\n",
    "mnb_time = end - start\n",
    "print(\"MultinomialNB Train Time:\", mnb_time)"
   ]
  },
  {
   "cell_type": "code",
   "execution_count": null,
   "id": "4fe1d261-9d86-425f-a454-d9067e1e8267",
   "metadata": {},
   "outputs": [],
   "source": [
    "pickle.dump(mnb, open(\"mnb.pkl\", \"wb\"))"
   ]
  },
  {
   "cell_type": "code",
   "execution_count": null,
   "id": "e7b35669-ee6c-4481-9ea7-9b5ae01f766f",
   "metadata": {},
   "outputs": [],
   "source": [
    "mnb_scores = cross_val_score(MultinomialNB(), X_train, y_train, cv=3)\n",
    "print(\"MultinomialNB Cross-Validation Accuracy Scores:\", mnb_scores)"
   ]
  },
  {
   "cell_type": "code",
   "execution_count": null,
   "id": "ef6807b3-6967-47c6-a9aa-bec93a8e49f1",
   "metadata": {},
   "outputs": [],
   "source": [
    "mnb_pred_train = mnb.predict(X_train)\n",
    "mnb_pred_test = mnb.predict(X_test)\n",
    "\n",
    "mnb_train_score = accuracy_score(mnb_pred_train, y_train)\n",
    "mnb_test_score = accuracy_score(mnb_pred_test, y_test)\n",
    "print(\"MultinomialNB Train Score:\", mnb_train_score)\n",
    "print(\"MultinomialNB Test Score:\", mnb_test_score)"
   ]
  },
  {
   "cell_type": "code",
   "execution_count": null,
   "id": "d02f35da-4b32-4a4a-ad00-afc881777722",
   "metadata": {},
   "outputs": [],
   "source": [
    "print(classification_report(y_test, mnb_pred_test))"
   ]
  },
  {
   "cell_type": "code",
   "execution_count": null,
   "id": "8a8019d6-315b-4416-8f1c-dfd1fab99209",
   "metadata": {},
   "outputs": [],
   "source": [
    "mnb_cm = confusion_matrix(y_test, mnb_pred_test)\n",
    "fig, ax = plot_confusion_matrix(conf_mat=mnb_cm, show_absolute=True, show_normed=True, colorbar=True, class_names=class_names)\n",
    "plt.title(\"MultinomialNB Confusion Matrix\")\n",
    "plt.show()"
   ]
  },
  {
   "cell_type": "markdown",
   "id": "489b4dbd-92ca-40cf-88be-893184c57972",
   "metadata": {},
   "source": [
    "# XGB"
   ]
  },
  {
   "cell_type": "code",
   "execution_count": null,
   "id": "5cf15253-9280-4542-87b8-57ace7649dcb",
   "metadata": {},
   "outputs": [],
   "source": [
    "xgb = XGBClassifier()\n",
    "start = time.time()\n",
    "xgb.fit(X_train, y_train)\n",
    "end = time.time()\n",
    "xgb_time = end - start\n",
    "print(\"XGB Train Time:\", xgb_time)"
   ]
  },
  {
   "cell_type": "code",
   "execution_count": null,
   "id": "b99b34f3-e2be-4175-8207-1fee6a0cd51e",
   "metadata": {},
   "outputs": [],
   "source": [
    "pickle.dump(xgb, open(\"xgb.pkl\", \"wb\"))"
   ]
  },
  {
   "cell_type": "code",
   "execution_count": null,
   "id": "e00e2142-7dd5-46e2-93f6-41b7b87de880",
   "metadata": {},
   "outputs": [],
   "source": [
    "xgb_scores = cross_val_score(XGBClassifier(), X_train, y_train, cv=3)\n",
    "print(\"XGB Cross-Validation Accuracy Scores:\", xgb_scores)"
   ]
  },
  {
   "cell_type": "code",
   "execution_count": null,
   "id": "aadafc45-b4dd-4fb8-a0ea-0d380b0f64b6",
   "metadata": {},
   "outputs": [],
   "source": [
    "xgb_pred_train = xgb.predict(X_train)\n",
    "xgb_pred_test = xgb.predict(X_test)\n",
    "\n",
    "xgb_train_score = accuracy_score(xgb_pred_train, y_train)\n",
    "xgb_test_score = accuracy_score(xgb_pred_test, y_test)\n",
    "print(\"XGB Train Score:\", xgb_train_score)\n",
    "print(\"XGB Test Score:\", xgb_test_score)"
   ]
  },
  {
   "cell_type": "code",
   "execution_count": null,
   "id": "cc97078c-06cf-45d3-913d-b3915f3ff4db",
   "metadata": {},
   "outputs": [],
   "source": [
    "print(classification_report(y_test, xgb_pred_test))"
   ]
  },
  {
   "cell_type": "code",
   "execution_count": null,
   "id": "92d181af-06bf-4574-91b2-b3334764b571",
   "metadata": {},
   "outputs": [],
   "source": [
    "xgb_cm = confusion_matrix(y_test, xgb_pred_test)\n",
    "fig, ax = plot_confusion_matrix(conf_mat=xgb_cm, show_absolute=True, show_normed=True, colorbar=True, class_names=class_names)\n",
    "plt.title(\"XGB Confusion Matrix\")\n",
    "plt.show()"
   ]
  },
  {
   "cell_type": "code",
   "execution_count": null,
   "id": "6a728fc5-e7a0-46e8-b1ee-3288ea042b77",
   "metadata": {},
   "outputs": [],
   "source": [
    "labels = [\"LR\", \"DT\", \"RF\", \"MNB\", \"XGB\"]\n",
    "scores = [logreg_test_score, dt_test_score, rf_test_score, mnb_test_score, xgb_test_score]"
   ]
  },
  {
   "cell_type": "code",
   "execution_count": null,
   "id": "a2680ac9-f16c-45a8-b7db-feaa2635309d",
   "metadata": {},
   "outputs": [],
   "source": [
    "plt.figure()\n",
    "ax = sns.barplot(x=labels, y=scores)\n",
    "ax.bar_label(ax.containers[0])\n",
    "plt.title(\"Trained Models Accuracy\")\n",
    "plt.show()"
   ]
  },
  {
   "cell_type": "markdown",
   "id": "2435879e-b61a-4ed6-8611-85e254ba6e03",
   "metadata": {},
   "source": [
    "# Test"
   ]
  },
  {
   "cell_type": "code",
   "execution_count": null,
   "id": "d110923d-e514-4db0-9906-da5d4c0e217f",
   "metadata": {},
   "outputs": [],
   "source": [
    "test_agreement = \"/mnt/hdd/Datasets/pdfs/agree.pdf\"\n",
    "test_agreement_file = open(test_agreement, \"rb\")\n",
    "pdf_reader = PyPDF2.PdfReader(test_agreement_file)\n",
    "total_pages = len(pdf_reader.pages)\n",
    "if total_pages > 3:\n",
    "    total_pages = 3\n",
    "count = 0\n",
    "text = \"\"\n",
    "while count < total_pages:\n",
    "    page = pdf_reader.pages[count]\n",
    "    count += 1\n",
    "    text += page.extract_text()\n",
    "\n",
    "spell = Speller(lang=\"en\")\n",
    "texts = spell(text)\n",
    "text_file = \" \".join([word.lower() for word in word_tokenize(texts)])\n",
    "#print(text_file)\n",
    "text_cleaned = clean_text(text_file)\n",
    "text_tfidf = tfidf.transform([text_cleaned])\n",
    "res_idx = xgb.predict(text_tfidf)[0]\n",
    "print(class_names[res_idx])"
   ]
  },
  {
   "cell_type": "code",
   "execution_count": null,
   "id": "b3dba684-8e18-4de5-987d-063a90a7ea24",
   "metadata": {},
   "outputs": [],
   "source": []
  }
 ],
 "metadata": {
  "kernelspec": {
   "display_name": "Python 3 (ipykernel)",
   "language": "python",
   "name": "python3"
  },
  "language_info": {
   "codemirror_mode": {
    "name": "ipython",
    "version": 3
   },
   "file_extension": ".py",
   "mimetype": "text/x-python",
   "name": "python",
   "nbconvert_exporter": "python",
   "pygments_lexer": "ipython3",
   "version": "3.10.12"
  }
 },
 "nbformat": 4,
 "nbformat_minor": 5
}
